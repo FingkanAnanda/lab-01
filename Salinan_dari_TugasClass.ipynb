{
  "nbformat": 4,
  "nbformat_minor": 0,
  "metadata": {
    "colab": {
      "provenance": [],
      "include_colab_link": true
    },
    "kernelspec": {
      "name": "python3",
      "display_name": "Python 3"
    },
    "language_info": {
      "name": "python"
    }
  },
  "cells": [
    {
      "cell_type": "markdown",
      "metadata": {
        "id": "view-in-github",
        "colab_type": "text"
      },
      "source": [
        "<a href=\"https://colab.research.google.com/github/FingkanAnanda/lab-01/blob/main/Salinan_dari_TugasClass.ipynb\" target=\"_parent\"><img src=\"https://colab.research.google.com/assets/colab-badge.svg\" alt=\"Open In Colab\"/></a>"
      ]
    },
    {
      "cell_type": "markdown",
      "source": [
        "Lengkapilah class-class berikut ini."
      ],
      "metadata": {
        "id": "V6n6i25pQnla"
      }
    },
    {
      "cell_type": "markdown",
      "source": [
        "Class Senjata memiliki sebuah atribut poin dan fungsi tembak()"
      ],
      "metadata": {
        "id": "DoZvmdSTSDPa"
      }
    },
    {
      "cell_type": "code",
      "source": [
        "class Senjata:\n",
        "  def __init__(self, poin):\n",
        "    self.poin = poin\n",
        "\n",
        "  def tembak(self):\n",
        "    print(f\"Ditembak oleh pemain lain!\")"
      ],
      "metadata": {
        "id": "NYeV0w-FR6mf"
      },
      "execution_count": null,
      "outputs": []
    },
    {
      "cell_type": "code",
      "source": [
        "senjata_saya=Senjata(50)\n",
        "senjata_saya.tembak()"
      ],
      "metadata": {
        "colab": {
          "base_uri": "https://localhost:8080/"
        },
        "id": "YfWYocOhTC6G",
        "outputId": "f8fbbbc5-f8e2-466b-ab59-bc34e92ccb6c"
      },
      "execution_count": null,
      "outputs": [
        {
          "output_type": "stream",
          "name": "stdout",
          "text": [
            "Ditembak oleh pemain lain!\n"
          ]
        }
      ]
    },
    {
      "cell_type": "markdown",
      "source": [
        "Class Player memiliki atribut id, nama, skor dan nyawa serta sebuah atribut bertipe objek **Senjata**. Tipe atribut silakan anda tentukan sendiri. Class Player memiliki perilaku move, set_skor dan get_skor. Class player wajib memiliki kontruktor. Fungsi move() menampilkan teks \"Bergerak\". Fungsi set_skor berfungsi untuk menambah skor dan fungsi get_skor mengembalikan nilai skor."
      ],
      "metadata": {
        "id": "LwRHn7m4SBaJ"
      }
    },
    {
      "cell_type": "code",
      "execution_count": null,
      "metadata": {
        "id": "JC6f_oE5Qhjt"
      },
      "outputs": [],
      "source": [
        "class Player:\n",
        "  def __init__(self, id=0, skor=0, nyawa=5):\n",
        "   self.id = id\n",
        "   self.nama = \"Pemain\"\n",
        "   self.skor = skor\n",
        "   self.nyawa = 5\n",
        "   self.senjata = Senjata(10)\n",
        "\n",
        "\n",
        "  def move(self):\n",
        "    print(\"Bergerak\")\n",
        "\n",
        "  def set_skor(self, tambahan_skor):\n",
        "    self.skor += tambahan_skor\n",
        "\n",
        "  def get_skor(self):\n",
        "    return self.skor"
      ]
    },
    {
      "cell_type": "code",
      "source": [
        "pl=Player(id=1, skor=100)\n",
        "\n",
        "pl.move()\n",
        "pl.senjata.tembak()\n",
        "pl.set_skor(45)\n",
        "print(\"skor kamu:\", pl.get_skor())"
      ],
      "metadata": {
        "colab": {
          "base_uri": "https://localhost:8080/"
        },
        "id": "eyLtWHDYW8Q7",
        "outputId": "b2c457e0-fca3-4263-97d9-3b12091d1998"
      },
      "execution_count": null,
      "outputs": [
        {
          "output_type": "stream",
          "name": "stdout",
          "text": [
            "Bergerak\n",
            "Ditembak oleh pemain lain!\n",
            "skor kamu: 145\n"
          ]
        }
      ]
    },
    {
      "cell_type": "markdown",
      "source": [
        "Terakhir cobalah kedua class tersebut dengan kode program berikut ini."
      ],
      "metadata": {
        "id": "miQK-cUqKAJe"
      }
    },
    {
      "cell_type": "code",
      "source": [
        "player1 = Player(\n",
        "    id = 1,\n",
        "    nama = 'Jojo',\n",
        "    skor = 0,\n",
        "    nyawa = 5\n",
        "    senjata = Senjata(poin = 10))\n",
        "player1.move()\n",
        "player1.senjata.tembak()"
      ],
      "metadata": {
        "id": "b-sH4vg5KE1p"
      },
      "execution_count": null,
      "outputs": []
    }
  ]
}